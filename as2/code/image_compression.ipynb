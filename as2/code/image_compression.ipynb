{
 "cells": [
  {
   "cell_type": "code",
   "execution_count": 1,
   "id": "f80474fc-5440-4c44-bfb8-3d36dddbdbb0",
   "metadata": {},
   "outputs": [],
   "source": [
    "import os\n",
    "import zipfile\n",
    "from PIL import Image\n",
    "from io import BytesIO\n",
    "from tqdm import tqdm  # Import tqdm for progress bar"
   ]
  },
  {
   "cell_type": "code",
   "execution_count": 2,
   "id": "4ad46525-a055-4753-b930-c4991e3e1b01",
   "metadata": {},
   "outputs": [],
   "source": [
    "# Define paths\n",
    "zip_path = os.path.expanduser(\"~/Downloads/compressed_images.zip\")  # Change if needed\n",
    "extract_folder = os.path.expanduser(\"~/Downloads/extracted_images_2\")\n",
    "output_zip_path = os.path.expanduser(\"~/Downloads/twice_compressed_images.zip\")\n",
    "\n",
    "# Ensure extraction folder exists\n",
    "os.makedirs(extract_folder, exist_ok=True)"
   ]
  },
  {
   "cell_type": "code",
   "execution_count": 3,
   "id": "c214d4dd-8605-4152-b80b-6504bef0d8f3",
   "metadata": {},
   "outputs": [],
   "source": [
    "import shutil\n",
    "\n",
    "# Remove the extracted folder if it already exists\n",
    "if os.path.exists(extract_folder):\n",
    "    shutil.rmtree(extract_folder)"
   ]
  },
  {
   "cell_type": "code",
   "execution_count": 4,
   "id": "4170ccd2-2c2b-444a-9eed-4e920d5956a5",
   "metadata": {},
   "outputs": [],
   "source": [
    "# Step 1: Extract images.zip\n",
    "with zipfile.ZipFile(zip_path, 'r') as zip_ref:\n",
    "    zip_ref.extractall(extract_folder)\n",
    "\n",
    "# Get the top-level \"images\" folder inside extracted_images\n",
    "root_images_folder = os.path.join(extract_folder, \"images\")"
   ]
  },
  {
   "cell_type": "code",
   "execution_count": 5,
   "id": "317b7afb-aa5c-4f96-bd91-16ea43a2b4b4",
   "metadata": {},
   "outputs": [
    {
     "name": "stdout",
     "output_type": "stream",
     "text": [
      "Root: C:\\Users\\varko/Downloads/extracted_images_2\n",
      "Directories: ['images']\n",
      "Files: []\n",
      "Root: C:\\Users\\varko/Downloads/extracted_images_2\\images\n",
      "Directories: ['argentina', 'austria', 'canada', 'chile', 'france', 'iceland', 'italy', 'japan', 'new_zealand', 'norway', 'peru', 'switzerland']\n",
      "Files: []\n",
      "Root: C:\\Users\\varko/Downloads/extracted_images_2\\images\\argentina\n",
      "Directories: []\n",
      "Files: ['1741691006_-30.9927065_-68.8548332.jpg', '1741691007_-22.8471847_-65.2269743.jpg', '1741691009_-22.8081965_-65.8481546.jpg', '1741691010_-22.1328156_-65.743084.jpg', '1741691010_-27.8027889_-68.02298.jpg']\n",
      "Root: C:\\Users\\varko/Downloads/extracted_images_2\\images\\austria\n",
      "Directories: []\n",
      "Files: ['1741629848_47.013154_12.642665.jpg', '1741629893_46.9753931_13.1763415.jpg', '1741629943_47.1592688_12.9692941.jpg', '1741629986_47.0074369_10.2812601.jpg', '1741630033_47.0602395_12.8158785.jpg']\n",
      "Root: C:\\Users\\varko/Downloads/extracted_images_2\\images\\canada\n",
      "Directories: []\n",
      "Files: ['1741638729_50.232387_-114.3907119.jpg', '1741638773_50.2121672_-114.5907322.jpg', '1741638816_51.0325174_-115.4129428.jpg', '1741638860_49.5911825_-114.3971416.jpg', '1741638904_52.2559758_-116.3923555.jpg']\n",
      "Root: C:\\Users\\varko/Downloads/extracted_images_2\\images\\chile\n",
      "Directories: []\n",
      "Files: ['1741636537_-33.6293123_-70.3088201.jpg', '1741636578_-22.7658334_-68.0703573.jpg', '1741636618_-33.6256689_-70.3052628.jpg', '1741636663_-22.8950713_-68.3271494.jpg', '1741636709_-33.3510753_-70.3287929.jpg']\n",
      "Root: C:\\Users\\varko/Downloads/extracted_images_2\\images\\france\n",
      "Directories: []\n",
      "Files: ['1741645692_45.37141_6.712129.jpg', '1741645735_42.758777_0.1952559.jpg', '1741645777_45.0166289_6.639549.jpg', '1741645820_42.6297373_1.4996208.jpg', '1741645867_42.4986851_1.9999004.jpg']\n",
      "Root: C:\\Users\\varko/Downloads/extracted_images_2\\images\\iceland\n",
      "Directories: []\n",
      "Files: ['1741690813_65.33753207490543_-21.189791018842264.jpg', '1741692287_64.8934553_-23.7096804.jpg', '1741692289_63.915452_-22.0245942.jpg', '1741692289_64.0989316_-21.9069406.jpg', '1741692289_64.9244198_-16.3682793.jpg']\n",
      "Root: C:\\Users\\varko/Downloads/extracted_images_2\\images\\italy\n",
      "Directories: []\n",
      "Files: ['1741643380_46.4216176_8.4171613.jpg', '1741643423_45.0618694_6.8684606.jpg', '1741643468_46.2057143_11.9273023.jpg', '1741643510_46.5629107_12.2457538.jpg', '1741643551_45.9339844_11.3794124.jpg']\n",
      "Root: C:\\Users\\varko/Downloads/extracted_images_2\\images\\japan\n",
      "Directories: []\n",
      "Files: ['1741640989_35.3327779_138.729916.jpg', '1741641032_35.8513256_138.6427004.jpg', '1741641077_36.635536_138.458067.jpg', '1741641122_36.673285_138.459184.jpg', '1741641167_36.641537_138.524398.jpg']\n",
      "Root: C:\\Users\\varko/Downloads/extracted_images_2\\images\\new_zealand\n",
      "Directories: []\n",
      "Files: ['1741634412_-45.0330189_168.8001333.jpg', '1741634454_-45.0512603_168.8138346.jpg', '1741634497_-45.0496156_168.8126436.jpg', '1741634540_-45.0531514_168.8145788.jpg', '1741634583_-45.051539_168.8138405.jpg']\n",
      "Root: C:\\Users\\varko/Downloads/extracted_images_2\\images\\norway\n",
      "Directories: []\n",
      "Files: ['1741632139_59.5316586_11.001019.jpg', '1741632188_59.5250143_11.0069109.jpg', '1741632235_59.5209338_11.0224475.jpg', '1741632280_59.5201118_11.028489.jpg', '1741632321_61.678801_8.36139.jpg']\n",
      "Root: C:\\Users\\varko/Downloads/extracted_images_2\\images\\peru\n",
      "Directories: []\n",
      "Files: ['1741647947_-7.1635247_-78.5138948.jpg', '1741647991_-9.1055463_-77.8629171.jpg', '1741648035_-11.6085269_-76.3994261.jpg', '1741648076_-7.8199657_-78.0465747.jpg', '1741648118_-11.9271757_-76.5294834.jpg']\n",
      "Root: C:\\Users\\varko/Downloads/extracted_images_2\\images\\switzerland\n",
      "Directories: []\n",
      "Files: ['1741627547_46.5407825_8.5778958.jpg', '1741627592_46.5832194_9.7825096.jpg', '1741627636_47.089116_9.0248301.jpg', '1741627677_46.4754707_9.1811045.jpg', '1741627719_46.6365742_7.9725743.jpg']\n"
     ]
    }
   ],
   "source": [
    "import os\n",
    "\n",
    "# Check the structure of the extracted files\n",
    "for root, dirs, files in os.walk(extract_folder):\n",
    "    print(f\"Root: {root}\")\n",
    "    print(f\"Directories: {dirs}\")\n",
    "    print(f\"Files: {files[:5]}\")  # Show first 5 files to confirm"
   ]
  },
  {
   "cell_type": "code",
   "execution_count": 6,
   "id": "f78f097b-2975-4466-8842-bab4a036607c",
   "metadata": {},
   "outputs": [
    {
     "name": "stdout",
     "output_type": "stream",
     "text": [
      "Found 50 images so far...\n",
      "Found 100 images so far...\n",
      "Found 150 images so far...\n",
      "Found 200 images so far...\n",
      "Found 250 images so far...\n",
      "Found 300 images so far...\n",
      "Found 350 images so far...\n",
      "Found 400 images so far...\n",
      "Found 450 images so far...\n",
      "Found 500 images so far...\n",
      "Found 550 images so far...\n",
      "Found 600 images so far...\n",
      "Found 650 images so far...\n",
      "Found 700 images so far...\n",
      "Found 750 images so far...\n",
      "Found 800 images so far...\n",
      "Found 850 images so far...\n",
      "Found 900 images so far...\n",
      "Found 950 images so far...\n",
      "Found 1000 images so far...\n",
      "Found 1050 images so far...\n",
      "Found 1100 images so far...\n",
      "Found 1150 images so far...\n",
      "Found 1200 images so far...\n",
      "Found 1250 images so far...\n",
      "Found 1300 images so far...\n",
      "Found 1350 images so far...\n",
      "Found 1400 images so far...\n",
      "Found 1450 images so far...\n",
      "Found 1500 images so far...\n",
      "Found 1550 images so far...\n",
      "Found 1600 images so far...\n",
      "Found 1650 images so far...\n",
      "Found 1700 images so far...\n",
      "Found 1750 images so far...\n",
      "Found 1800 images so far...\n",
      "Found 1850 images so far...\n",
      "Found 1900 images so far...\n",
      "Found 1950 images so far...\n",
      "Found 2000 images so far...\n",
      "Found 2050 images so far...\n",
      "Found 2100 images so far...\n",
      "Found 2150 images so far...\n",
      "Found 2200 images so far...\n",
      "Found 2250 images so far...\n",
      "Found 2300 images so far...\n",
      "Found 2350 images so far...\n",
      "Found 2400 images so far...\n",
      "Found 2450 images so far...\n",
      "Found 2500 images so far...\n",
      "Found 2550 images so far...\n",
      "Found 2600 images so far...\n"
     ]
    }
   ],
   "source": [
    "# Step 2: Compress images while keeping folder structure\n",
    "compressed_images = []\n",
    "\n",
    "# Collect all image file paths first\n",
    "image_files = []\n",
    "for root, _, files in os.walk(root_images_folder):\n",
    "    for file in files:\n",
    "        if file.lower().endswith(('.png', '.jpg', '.jpeg', '.webp')):  # Supported formats\n",
    "            image_files.append(os.path.join(root, file))\n",
    "            if len(image_files) % 50 == 0:  # Print every 50 files found\n",
    "                print(f\"Found {len(image_files)} images so far...\")"
   ]
  },
  {
   "cell_type": "code",
   "execution_count": null,
   "id": "c3aa3bcf-6f24-483f-afb0-f76b8fefbd0d",
   "metadata": {},
   "outputs": [
    {
     "name": "stderr",
     "output_type": "stream",
     "text": [
      "Processing Images:   2%|▏         | 63/2647 [01:03<32:30,  1.32image/s]  "
     ]
    }
   ],
   "source": [
    "# Process images with tqdm progress bar\n",
    "for img_path in tqdm(image_files, desc=\"Processing Images\", unit=\"image\"):\n",
    "    with Image.open(img_path) as img:\n",
    "        # Calculate new dimensions (half in both directions)\n",
    "        new_width = img.width // 2\n",
    "        new_height = img.height // 2\n",
    "        img_resized = img.resize((new_width, new_height), Image.Resampling.LANCZOS)\n",
    "\n",
    "        # Save to memory buffer\n",
    "        img_io = BytesIO()\n",
    "        img_format = \"JPEG\" if img.format == \"JPEG\" else \"PNG\"\n",
    "        img_resized.save(img_io, format=img_format, quality=85)  # Adjust quality if needed\n",
    "\n",
    "        # Preserve folder structure inside ZIP\n",
    "        relative_path = os.path.relpath(img_path, extract_folder)  # e.g., \"images/USA/image1.jpg\"\n",
    "        compressed_images.append((relative_path, img_io.getvalue()))\n",
    "\n",
    "# Step 3: Save compressed images to new ZIP while keeping the structure\n",
    "with zipfile.ZipFile(output_zip_path, 'w', zipfile.ZIP_DEFLATED) as zip_out:\n",
    "    for file_name, img_data in tqdm(compressed_images, desc=\"Saving to ZIP\", unit=\"image\"):\n",
    "        zip_out.writestr(file_name, img_data)\n",
    "\n",
    "print(f\" Compression complete! Compressed images saved to: {output_zip_path}\")"
   ]
  },
  {
   "cell_type": "code",
   "execution_count": null,
   "id": "ce64d3f0-49b2-44b7-8a32-4cb1a82a507f",
   "metadata": {},
   "outputs": [],
   "source": []
  }
 ],
 "metadata": {
  "kernelspec": {
   "display_name": "Python 3 (ipykernel)",
   "language": "python",
   "name": "python3"
  },
  "language_info": {
   "codemirror_mode": {
    "name": "ipython",
    "version": 3
   },
   "file_extension": ".py",
   "mimetype": "text/x-python",
   "name": "python",
   "nbconvert_exporter": "python",
   "pygments_lexer": "ipython3",
   "version": "3.12.3"
  }
 },
 "nbformat": 4,
 "nbformat_minor": 5
}
