{
 "cells": [
  {
   "cell_type": "markdown",
   "id": "521c2ca4-5d9e-4e6b-bab0-231cb4259926",
   "metadata": {},
   "source": [
    "# Convert json to CSV to work with Gephi for better visualization"
   ]
  },
  {
   "cell_type": "code",
   "execution_count": null,
   "id": "feb13052-56dc-462a-b9d3-ca5d0d6478d7",
   "metadata": {},
   "outputs": [],
   "source": [
    "import pandas as pd\n",
    "import json\n",
    "\n",
    "data = pd.read_json(\"50kwithPaths.json\", lines=True)\n",
    "\n",
    "print(\"DataFrame columns:\", data.columns)\n",
    "\n",
    "nodes_list = []\n",
    "relationships_list = []\n",
    "\n",
    "for _, row in data.iterrows():\n",
    "    path = row['path']\n",
    "    \n",
    "    if not isinstance(path, dict) or 'nodes' not in path or 'relationships' not in path:\n",
    "        continue\n",
    "    \n",
    "    for node in path['nodes']:\n",
    "        node_data = {\n",
    "            'id': node['id'],\n",
    "            'type': node['type'],\n",
    "            'labels': ','.join(node['labels']),\n",
    "            **node['properties']  # Unpack all properties\n",
    "        }\n",
    "        nodes_list.append(node_data)\n",
    "    \n",
    "    for rel in path['relationships']:\n",
    "        rel_data = {\n",
    "            'id': rel['id'],\n",
    "            'start_node': rel['start'],\n",
    "            'end_node': rel['end'],\n",
    "            'label': rel['label'],\n",
    "            **rel['properties']  \n",
    "        }\n",
    "        relationships_list.append(rel_data)\n",
    "\n",
    "nodes_df = pd.DataFrame(nodes_list).drop_duplicates(subset=['id'])\n",
    "relationships_df = pd.DataFrame(relationships_list).drop_duplicates(subset=['id'])\n",
    "\n",
    "relationships_df['source'] = relationships_df['start_node']\n",
    "relationships_df['target'] = relationships_df['end_node']"
   ]
  },
  {
   "cell_type": "code",
   "execution_count": null,
   "id": "d1c90db6-4188-4b70-b611-cde5028fd6be",
   "metadata": {},
   "outputs": [],
   "source": [
    "nodes_df.to_csv('nodes.csv', index=False)\n",
    "relationships_df.to_csv(edges.csv', index=False)"
   ]
  },
  {
   "cell_type": "code",
   "execution_count": null,
   "id": "749ca006-90af-4e2c-a1ba-f3419340b66e",
   "metadata": {},
   "outputs": [],
   "source": [
    "print(\"Nodes DataFrame:\")\n",
    "print(nodes_df.head())\n",
    "print(\"\\nRelationships DataFrame:\")\n",
    "print(relationships_df.head())"
   ]
  },
  {
   "cell_type": "markdown",
   "id": "0fe454bf-8a78-4515-949d-3006ea59f6e7",
   "metadata": {},
   "source": [
    "# Calculating new features to use in Gephi based on CSV's and json"
   ]
  },
  {
   "cell_type": "markdown",
   "id": "4383368b-5939-4d90-905c-6dee177bc10a",
   "metadata": {},
   "source": [
    "### Features to extend nodes CSV"
   ]
  },
  {
   "cell_type": "code",
   "execution_count": 1,
   "id": "5fd0dd60-b4e4-4904-9479-3eeece6a736d",
   "metadata": {},
   "outputs": [],
   "source": [
    "import pandas as pd\n",
    "import json\n",
    "\n",
    "nodes_df = pd.read_csv(\"nodes.csv.xls\")\n",
    "\n",
    "json_file_path = \"usr_app_tag_63k.json\"\n",
    "with open(json_file_path, \"r\", encoding=\"utf-8\") as f:\n",
    "    json_lines = f.readlines()\n",
    "json_data = [json.loads(line) for line in json_lines]\n",
    "json_df = pd.DataFrame(json_data)\n",
    "\n",
    "edges_df = pd.read_csv(\"edges.csv.xls\")\n",
    "edges_df['zero_played'] = edges_df['playtime'] == 0"
   ]
  },
  {
   "cell_type": "markdown",
   "id": "eda51d3a-2233-43c1-866f-16308775db25",
   "metadata": {},
   "source": [
    "App features like zero_playtime (= users with 0 playtime/total users) and app_avg_playtime (=avg playtime over all users) based on the relations in the json file + add them to the node csv at the right place"
   ]
  },
  {
   "cell_type": "code",
   "execution_count": 4,
   "id": "cd528ba4-5fb3-40d3-a93d-c58826fc9a51",
   "metadata": {},
   "outputs": [],
   "source": [
    "app_nodes = nodes_df[(nodes_df['labels'] == 'App') & (nodes_df['name'].notna())].copy()\n",
    "json_lookup = json_df.set_index('app_name')[['zero_playtime_owners', 'avg_playtime']]\n",
    "app_nodes = app_nodes.merge(json_lookup, how='left', left_on='name', right_index=True)\n",
    "app_nodes.rename(columns={\n",
    "    'zero_playtime_owners': 'app_zero_playtime',\n",
    "    'avg_playtime': 'app_avg_playtime'\n",
    "}, inplace=True)"
   ]
  },
  {
   "cell_type": "markdown",
   "id": "1b171364-fcd9-4a31-9974-a3a3b4a50735",
   "metadata": {},
   "source": [
    "Calculate user futures like user_zero_playtime_ratio (= not played games / totale games owned) and relationship strenght (= 1/total apps owned) based on the numbers in edges "
   ]
  },
  {
   "cell_type": "code",
   "execution_count": 7,
   "id": "d26fadcb-1e14-43ad-a391-8b8fcf25b6e3",
   "metadata": {},
   "outputs": [],
   "source": [
    "user_play_stats = edges_df.groupby('start_node').agg(\n",
    "    owned_apps_count=('playtime', 'count'),\n",
    "    zero_played_apps=('zero_played', 'sum'),\n",
    "    user_avg_playtime=('playtime', 'mean')\n",
    ").reset_index()\n",
    "user_play_stats['user_zero_playtime_ratio'] = user_play_stats['zero_played_apps'] / user_play_stats['owned_apps_count']\n",
    "user_play_stats['user_relationship_strength'] = 1 / user_play_stats['owned_apps_count']"
   ]
  },
  {
   "cell_type": "markdown",
   "id": "cf00dbc2-fe68-46ab-a33c-18cf5e7ac9ce",
   "metadata": {},
   "source": [
    "Add new features to the right nodes with label = user"
   ]
  },
  {
   "cell_type": "code",
   "execution_count": 10,
   "id": "32a64468-9293-46ef-96e2-5686e08f2d65",
   "metadata": {},
   "outputs": [],
   "source": [
    "user_nodes = nodes_df[nodes_df['labels'] == 'User'].copy()\n",
    "user_nodes = user_nodes.merge(user_play_stats, how='left', left_on='id', right_on='start_node')\n",
    "user_nodes.drop(columns=['start_node'], inplace=True)"
   ]
  },
  {
   "cell_type": "markdown",
   "id": "82a3c38e-548d-41dc-9695-1edcdb7ff93e",
   "metadata": {},
   "source": [
    "Combine the new user node and app nodes in a new dataframe"
   ]
  },
  {
   "cell_type": "code",
   "execution_count": 13,
   "id": "345de936-0cb7-46ce-8b43-06317f613fd6",
   "metadata": {},
   "outputs": [],
   "source": [
    "other_nodes = nodes_df[~nodes_df['id'].isin(app_nodes['id']) & ~nodes_df['id'].isin(user_nodes['id'])]\n",
    "combined_df = pd.concat([app_nodes, user_nodes, other_nodes], ignore_index=True)"
   ]
  },
  {
   "cell_type": "markdown",
   "id": "1ae37922-040d-43fe-b35c-21a9d7d4ef28",
   "metadata": {},
   "source": [
    "Make a column nametag to filter on in Gephi (one uniform column for both user and app nodes)"
   ]
  },
  {
   "cell_type": "code",
   "execution_count": 16,
   "id": "a9137437-20fc-4a44-a137-067f8642a44f",
   "metadata": {},
   "outputs": [],
   "source": [
    "combined_df['nametag'] = combined_df['personaname'].combine_first(combined_df['name'])"
   ]
  },
  {
   "cell_type": "markdown",
   "id": "ac362406-de94-446f-ae2d-6a07134b70de",
   "metadata": {},
   "source": [
    "Export a clean version"
   ]
  },
  {
   "cell_type": "code",
   "execution_count": 19,
   "id": "004bef8b-e314-4d9e-95f9-07566e08eeb9",
   "metadata": {},
   "outputs": [],
   "source": [
    "filtered_final_df = combined_df[\n",
    "    (combined_df['nametag'].notna()) &\n",
    "    (combined_df['labels'].isin(['App', 'User']))\n",
    "].copy()\n",
    "\n",
    "filtered_final_df.to_csv(\"nodes_final.csv\", index=False)"
   ]
  },
  {
   "cell_type": "markdown",
   "id": "c959aa72-9e96-49ae-8626-7b5271765fb9",
   "metadata": {},
   "source": [
    "### Features to extend edges CSV"
   ]
  },
  {
   "cell_type": "markdown",
   "id": "9ea870e4-3d13-4c8b-a350-cc1f22bbcd9a",
   "metadata": {},
   "source": [
    "Implement variable binary_played (= 1 if the game is played) to determine the difference between played and non played relationships"
   ]
  },
  {
   "cell_type": "code",
   "execution_count": 23,
   "id": "cad67cd2-e44d-4058-a746-b83a28589557",
   "metadata": {},
   "outputs": [],
   "source": [
    "edges_df['binary_played'] = (edges_df['playtime'] > 0).astype(int)"
   ]
  },
  {
   "cell_type": "markdown",
   "id": "f3b967c4-721c-41ac-b98b-7e10c74d5a3d",
   "metadata": {},
   "source": [
    "Calculation of edge_weight (=user_relationship_strength * playtime) to show the importance of a relation: more important = less apps and higher playtime"
   ]
  },
  {
   "cell_type": "code",
   "execution_count": 26,
   "id": "4e378fbf-d790-47fa-b40d-ee53711968ae",
   "metadata": {},
   "outputs": [
    {
     "name": "stderr",
     "output_type": "stream",
     "text": [
      "C:\\Users\\guuss\\AppData\\Local\\Temp\\ipykernel_18648\\1527170349.py:1: DtypeWarning: Columns (3,7,10,11,12,14,16) have mixed types. Specify dtype option on import or set low_memory=False.\n",
      "  user_strength_df = pd.read_csv(\"nodes_final.csv\")\n"
     ]
    }
   ],
   "source": [
    "user_strength_df = pd.read_csv(\"nodes_final.csv\")\n",
    "user_strength_lookup = user_strength_df[user_strength_df['labels'] == 'User'][['id', 'user_relationship_strength']]\n",
    "\n",
    "edges_enriched = edges_df.merge(user_strength_lookup, how='left', left_on='start_node', right_on='id')\n",
    "\n",
    "edges_enriched['edge_weight'] = edges_enriched['user_relationship_strength'] * edges_enriched['playtime']\n",
    "\n",
    "edges_enriched.drop(columns=['id_y'], inplace=True)\n",
    "edges_enriched.rename(columns={'id_x': 'id'}, inplace=True)"
   ]
  },
  {
   "cell_type": "code",
   "execution_count": 30,
   "id": "ef3e0af8-15d2-4c4d-acb8-12ba6e740368",
   "metadata": {},
   "outputs": [],
   "source": [
    "edges_enriched.to_csv(\"edges_final.csv\", index=False)"
   ]
  },
  {
   "cell_type": "markdown",
   "id": "d959aa5d-f144-40b4-b8a3-2bd3f9dd943c",
   "metadata": {},
   "source": [
    "### Calculate 'backlog' users/apps based on the 0.8 threshold, defined in the first look"
   ]
  },
  {
   "cell_type": "markdown",
   "id": "f9aae070-38a4-41ce-895e-8fde08d5ec35",
   "metadata": {},
   "source": [
    "For app_backlog: calculate ratio and investigate a good threshold"
   ]
  },
  {
   "cell_type": "code",
   "execution_count": 66,
   "id": "4f66f56e-8bdb-4bea-ab8c-5f66961e6ac7",
   "metadata": {},
   "outputs": [
    {
     "name": "stderr",
     "output_type": "stream",
     "text": [
      "C:\\Users\\guuss\\AppData\\Local\\Temp\\ipykernel_18648\\4115125182.py:5: DtypeWarning: Columns (3,7,10,11,12,14,16) have mixed types. Specify dtype option on import or set low_memory=False.\n",
      "  nodes_df = pd.read_csv(\"nodes_final.csv\")\n"
     ]
    },
    {
     "data": {
      "image/png": "[encoded data removed]",
      "text/plain": [
       "<Figure size 1000x600 with 1 Axes>"
      ]
     },
     "metadata": {},
     "output_type": "display_data"
    }
   ],
   "source": [
    "import pandas as pd\n",
    "import numpy as np\n",
    "import matplotlib.pyplot as plt\n",
    "\n",
    "nodes_df = pd.read_csv(\"nodes_final.csv\")\n",
    "edges_df = pd.read_csv(\"edges_final.csv\")\n",
    "\n",
    "apps = nodes_df[(nodes_df['labels'] == 'App') & (nodes_df['app_zero_playtime'].notna())].copy()\n",
    "app_owners_count = edges_df.groupby('end_node').size().reset_index(name='total_owners')\n",
    "apps = apps.merge(app_owners_count, how='left', left_on='id', right_on='end_node')\n",
    "apps = apps[apps['total_owners'] > 0].copy()\n",
    "apps['zero_play_ratio'] = apps['app_zero_playtime'] / apps['total_owners']\n",
    "\n",
    "thresholds = np.linspace(0.2, 1, 81)\n",
    "app_counts = [(apps['zero_play_ratio'] >= t).sum() for t in thresholds]\n",
    "\n",
    "plt.figure(figsize=(10, 6))\n",
    "plt.plot(thresholds, app_counts, marker='o')\n",
    "plt.title('Aantal apps boven drempel van zero_play_ratio (vanaf 0.2)')\n",
    "plt.xlabel('Zero Play Ratio Threshold')\n",
    "plt.ylabel('Aantal apps')\n",
    "plt.grid(True)\n",
    "plt.tight_layout()\n",
    "plt.show()\n"
   ]
  },
  {
   "cell_type": "code",
   "execution_count": 68,
   "id": "99f8655a-72d7-4916-bfac-ed4b230f060c",
   "metadata": {},
   "outputs": [],
   "source": [
    "t_app_ratio_threshold = 0.4\n",
    "apps['app_backlog'] = (apps['zero_play_ratio'] >= t_app_ratio_threshold).astype(int)\n",
    "\n",
    "nodes_df = nodes_df.merge(apps[['id', 'app_backlog']], how='left', on='id')\n",
    "nodes_df['app_backlog'] = nodes_df.apply(\n",
    "    lambda row: row['app_backlog'] if row['labels'] == 'App' else pd.NA,\n",
    "    axis=1\n",
    ")"
   ]
  },
  {
   "cell_type": "markdown",
   "id": "6d706489-79c2-4298-8fb0-b1ebda1a2542",
   "metadata": {},
   "source": [
    "For user backlog: use ratio of 0.8 (as seen in other notebook)"
   ]
  },
  {
   "cell_type": "code",
   "execution_count": 71,
   "id": "9a21d333-d9d0-4b0d-a20c-9808918221e6",
   "metadata": {},
   "outputs": [],
   "source": [
    "nodes_df['user_backlog'] = nodes_df.apply(\n",
    "    lambda row: 1 if row['labels'] == 'User' and pd.notna(row.get('user_zero_playtime_ratio')) and row['user_zero_playtime_ratio'] >= 0.8 else (0 if row['labels'] == 'User' else pd.NA),\n",
    "    axis=1\n",
    ")"
   ]
  },
  {
   "cell_type": "markdown",
   "id": "2c324d8c-fe5b-4155-8a3e-bf80ff8267f2",
   "metadata": {},
   "source": [
    "Universal backlog binary for Gephi"
   ]
  },
  {
   "cell_type": "code",
   "execution_count": 74,
   "id": "3fefb65c-bd9e-40cd-856a-c09826c963b2",
   "metadata": {},
   "outputs": [],
   "source": [
    "nodes_df['is_backlog'] = nodes_df.apply(\n",
    "    lambda row: 1 if (pd.notna(row.get('user_backlog')) and row.get('user_backlog') == 1) or \n",
    "                     (pd.notna(row.get('app_backlog')) and row.get('app_backlog') == 1) else 0,\n",
    "    axis=1\n",
    ")"
   ]
  },
  {
   "cell_type": "markdown",
   "id": "fd4f44d0-644d-48c9-af62-4dd359e9fabe",
   "metadata": {},
   "source": [
    "Controle:"
   ]
  },
  {
   "cell_type": "code",
   "execution_count": 77,
   "id": "34359ff2-c150-405a-a574-dc26a9496a48",
   "metadata": {},
   "outputs": [
    {
     "name": "stdout",
     "output_type": "stream",
     "text": [
      "Aantal apps met app_backlog = 1: 2800.0\n",
      "Aantal users met user_backlog = 1: 647\n",
      "Totaal aantal nodes met is_backlog = 1: 3447\n"
     ]
    }
   ],
   "source": [
    "app_backlog_count = nodes_df['app_backlog'].sum(skipna=True)\n",
    "user_backlog_count = nodes_df['user_backlog'].sum(skipna=True)\n",
    "is_backlog_total = nodes_df['is_backlog'].sum()\n",
    "\n",
    "print(\"Aantal apps met app_backlog = 1:\", app_backlog_count)\n",
    "print(\"Aantal users met user_backlog = 1:\", user_backlog_count)\n",
    "print(\"Totaal aantal nodes met is_backlog = 1:\", is_backlog_total)"
   ]
  },
  {
   "cell_type": "code",
   "execution_count": 79,
   "id": "19dfe010-52a5-4adc-bbb5-38bd9334e70f",
   "metadata": {},
   "outputs": [],
   "source": [
    "nodes_final3_path = \"nodes_final3.csv\"\n",
    "nodes_df.to_csv(nodes_final3_path, index=False)"
   ]
  },
  {
   "cell_type": "code",
   "execution_count": 82,
   "id": "b15fb39e-c0b7-4690-826a-962e7a685aca",
   "metadata": {},
   "outputs": [
    {
     "data": {
      "text/html": [
       "<div>\n",
       "<style scoped>\n",
       "    .dataframe tbody tr th:only-of-type {\n",
       "        vertical-align: middle;\n",
       "    }\n",
       "\n",
       "    .dataframe tbody tr th {\n",
       "        vertical-align: top;\n",
       "    }\n",
       "\n",
       "    .dataframe thead th {\n",
       "        text-align: right;\n",
       "    }\n",
       "</style>\n",
       "<table border=\"1\" class=\"dataframe\">\n",
       "  <thead>\n",
       "    <tr style=\"text-align: right;\">\n",
       "      <th></th>\n",
       "      <th>id</th>\n",
       "      <th>type</th>\n",
       "      <th>labels</th>\n",
       "      <th>avatar</th>\n",
       "      <th>commentpermission</th>\n",
       "      <th>communityvisibilitystate</th>\n",
       "      <th>ident</th>\n",
       "      <th>personaname</th>\n",
       "      <th>personastate</th>\n",
       "      <th>profilestate</th>\n",
       "      <th>...</th>\n",
       "      <th>app_avg_playtime</th>\n",
       "      <th>owned_apps_count</th>\n",
       "      <th>zero_played_apps</th>\n",
       "      <th>user_avg_playtime</th>\n",
       "      <th>user_zero_playtime_ratio</th>\n",
       "      <th>user_relationship_strength</th>\n",
       "      <th>nametag</th>\n",
       "      <th>app_backlog</th>\n",
       "      <th>user_backlog</th>\n",
       "      <th>is_backlog</th>\n",
       "    </tr>\n",
       "  </thead>\n",
       "  <tbody>\n",
       "    <tr>\n",
       "      <th>0</th>\n",
       "      <td>983203</td>\n",
       "      <td>node</td>\n",
       "      <td>App</td>\n",
       "      <td>NaN</td>\n",
       "      <td>NaN</td>\n",
       "      <td>NaN</td>\n",
       "      <td>1662770</td>\n",
       "      <td>NaN</td>\n",
       "      <td>NaN</td>\n",
       "      <td>NaN</td>\n",
       "      <td>...</td>\n",
       "      <td>0.0</td>\n",
       "      <td>NaN</td>\n",
       "      <td>NaN</td>\n",
       "      <td>NaN</td>\n",
       "      <td>NaN</td>\n",
       "      <td>NaN</td>\n",
       "      <td>UFO: Extraterrestrials Platinum</td>\n",
       "      <td>1.0</td>\n",
       "      <td>&lt;NA&gt;</td>\n",
       "      <td>1</td>\n",
       "    </tr>\n",
       "    <tr>\n",
       "      <th>1</th>\n",
       "      <td>984076</td>\n",
       "      <td>node</td>\n",
       "      <td>App</td>\n",
       "      <td>NaN</td>\n",
       "      <td>NaN</td>\n",
       "      <td>NaN</td>\n",
       "      <td>1164470</td>\n",
       "      <td>NaN</td>\n",
       "      <td>NaN</td>\n",
       "      <td>NaN</td>\n",
       "      <td>...</td>\n",
       "      <td>NaN</td>\n",
       "      <td>NaN</td>\n",
       "      <td>NaN</td>\n",
       "      <td>NaN</td>\n",
       "      <td>NaN</td>\n",
       "      <td>NaN</td>\n",
       "      <td>[MISC] TIMELINES</td>\n",
       "      <td>0.0</td>\n",
       "      <td>&lt;NA&gt;</td>\n",
       "      <td>0</td>\n",
       "    </tr>\n",
       "    <tr>\n",
       "      <th>2</th>\n",
       "      <td>984073</td>\n",
       "      <td>node</td>\n",
       "      <td>App</td>\n",
       "      <td>NaN</td>\n",
       "      <td>NaN</td>\n",
       "      <td>NaN</td>\n",
       "      <td>1119770</td>\n",
       "      <td>NaN</td>\n",
       "      <td>NaN</td>\n",
       "      <td>NaN</td>\n",
       "      <td>...</td>\n",
       "      <td>NaN</td>\n",
       "      <td>NaN</td>\n",
       "      <td>NaN</td>\n",
       "      <td>NaN</td>\n",
       "      <td>NaN</td>\n",
       "      <td>NaN</td>\n",
       "      <td>VaporFly</td>\n",
       "      <td>0.0</td>\n",
       "      <td>&lt;NA&gt;</td>\n",
       "      <td>0</td>\n",
       "    </tr>\n",
       "    <tr>\n",
       "      <th>3</th>\n",
       "      <td>984072</td>\n",
       "      <td>node</td>\n",
       "      <td>App</td>\n",
       "      <td>NaN</td>\n",
       "      <td>NaN</td>\n",
       "      <td>NaN</td>\n",
       "      <td>962240</td>\n",
       "      <td>NaN</td>\n",
       "      <td>NaN</td>\n",
       "      <td>NaN</td>\n",
       "      <td>...</td>\n",
       "      <td>NaN</td>\n",
       "      <td>NaN</td>\n",
       "      <td>NaN</td>\n",
       "      <td>NaN</td>\n",
       "      <td>NaN</td>\n",
       "      <td>NaN</td>\n",
       "      <td>Tiger Tank 59 Ⅰ A-Gun</td>\n",
       "      <td>0.0</td>\n",
       "      <td>&lt;NA&gt;</td>\n",
       "      <td>0</td>\n",
       "    </tr>\n",
       "    <tr>\n",
       "      <th>4</th>\n",
       "      <td>984070</td>\n",
       "      <td>node</td>\n",
       "      <td>App</td>\n",
       "      <td>NaN</td>\n",
       "      <td>NaN</td>\n",
       "      <td>NaN</td>\n",
       "      <td>912590</td>\n",
       "      <td>NaN</td>\n",
       "      <td>NaN</td>\n",
       "      <td>NaN</td>\n",
       "      <td>...</td>\n",
       "      <td>NaN</td>\n",
       "      <td>NaN</td>\n",
       "      <td>NaN</td>\n",
       "      <td>NaN</td>\n",
       "      <td>NaN</td>\n",
       "      <td>NaN</td>\n",
       "      <td>The path to domination</td>\n",
       "      <td>0.0</td>\n",
       "      <td>&lt;NA&gt;</td>\n",
       "      <td>0</td>\n",
       "    </tr>\n",
       "  </tbody>\n",
       "</table>\n",
       "<p>5 rows × 47 columns</p>\n",
       "</div>"
      ],
      "text/plain": [
       "       id  type labels avatar  commentpermission  communityvisibilitystate  \\\n",
       "0  983203  node    App    NaN                NaN                       NaN   \n",
       "1  984076  node    App    NaN                NaN                       NaN   \n",
       "2  984073  node    App    NaN                NaN                       NaN   \n",
       "3  984072  node    App    NaN                NaN                       NaN   \n",
       "4  984070  node    App    NaN                NaN                       NaN   \n",
       "\n",
       "     ident personaname  personastate  profilestate  ... app_avg_playtime  \\\n",
       "0  1662770         NaN           NaN           NaN  ...              0.0   \n",
       "1  1164470         NaN           NaN           NaN  ...              NaN   \n",
       "2  1119770         NaN           NaN           NaN  ...              NaN   \n",
       "3   962240         NaN           NaN           NaN  ...              NaN   \n",
       "4   912590         NaN           NaN           NaN  ...              NaN   \n",
       "\n",
       "  owned_apps_count zero_played_apps user_avg_playtime  \\\n",
       "0              NaN              NaN               NaN   \n",
       "1              NaN              NaN               NaN   \n",
       "2              NaN              NaN               NaN   \n",
       "3              NaN              NaN               NaN   \n",
       "4              NaN              NaN               NaN   \n",
       "\n",
       "  user_zero_playtime_ratio  user_relationship_strength  \\\n",
       "0                      NaN                         NaN   \n",
       "1                      NaN                         NaN   \n",
       "2                      NaN                         NaN   \n",
       "3                      NaN                         NaN   \n",
       "4                      NaN                         NaN   \n",
       "\n",
       "                           nametag app_backlog user_backlog is_backlog  \n",
       "0  UFO: Extraterrestrials Platinum         1.0         <NA>          1  \n",
       "1                 [MISC] TIMELINES         0.0         <NA>          0  \n",
       "2                         VaporFly         0.0         <NA>          0  \n",
       "3            Tiger Tank 59 Ⅰ A-Gun         0.0         <NA>          0  \n",
       "4           The path to domination         0.0         <NA>          0  \n",
       "\n",
       "[5 rows x 47 columns]"
      ]
     },
     "execution_count": 82,
     "metadata": {},
     "output_type": "execute_result"
    }
   ],
   "source": [
    "nodes_df.head()"
   ]
  },
  {
   "cell_type": "markdown",
   "id": "b1da8c01-a93e-467b-a737-0b49c1250e9c",
   "metadata": {},
   "source": [
    "## Add the descriptives of the json files like zero_playtime_owners, total_owners to indicate importance of an app"
   ]
  },
  {
   "cell_type": "markdown",
   "id": "4ed2844b-962f-476f-821d-0cf61633714b",
   "metadata": {},
   "source": [
    "Impute (relative low) values for user nodes, because if we filter on these variables in Gephi all the nodes with nan will disappear"
   ]
  },
  {
   "cell_type": "code",
   "execution_count": 89,
   "id": "efaf5fc6-c79a-4be8-89ff-cdfd2c3429c3",
   "metadata": {},
   "outputs": [
    {
     "name": "stderr",
     "output_type": "stream",
     "text": [
      "C:\\Users\\guuss\\AppData\\Local\\Temp\\ipykernel_18648\\167869272.py:4: DtypeWarning: Columns (3,7,10,11,12,14,16,17,18,19,20,22,23,24,25,26,27,28,29,30,31,32,33,34,35) have mixed types. Specify dtype option on import or set low_memory=False.\n",
      "  nodes_df = pd.read_csv(\"nodes_final4_cleaned.csv\")\n"
     ]
    }
   ],
   "source": [
    "import pandas as pd\n",
    "import json\n",
    "\n",
    "nodes_df = pd.read_csv(\"nodes_final4_cleaned.csv\")\n",
    "\n",
    "with open(\"usr_app_tag_63k.json\", \"r\", encoding=\"utf-8\") as f:\n",
    "    json_lines = f.readlines()\n",
    "json_data = [json.loads(line) for line in json_lines]\n",
    "json_df = pd.DataFrame(json_data)\n",
    "\n",
    "apps_only = nodes_df[nodes_df['labels'] == 'App'][['id', 'name']]\n",
    "apps_merged = apps_only.merge(json_df[['app_name', 'total_owners', 'zero_playtime_owners', 'avg_playtime']],\n",
    "                               how='left', left_on='name', right_on='app_name')\n",
    "\n",
    "nodes_df = nodes_df.merge(apps_merged[['id', 'total_owners', 'zero_playtime_owners', 'avg_playtime']],\n",
    "                          how='left', on='id')\n",
    "\n",
    "q25_total_owners = nodes_df.loc[nodes_df['labels'] == 'App', 'total_owners'].quantile(0.25)\n",
    "q25_zero_playtime = nodes_df.loc[nodes_df['labels'] == 'App', 'zero_playtime_owners'].quantile(0.25)\n",
    "q25_avg_playtime = nodes_df.loc[nodes_df['labels'] == 'App', 'avg_playtime'].quantile(0.25)\n",
    "\n",
    "nodes_df.loc[nodes_df['labels'] == 'User', 'total_owners'] = q25_total_owners\n",
    "nodes_df.loc[nodes_df['labels'] == 'User', 'zero_playtime_owners'] = q25_zero_playtime\n",
    "nodes_df.loc[nodes_df['labels'] == 'User', 'avg_playtime'] = q25_avg_playtime\n",
    "\n",
    "nodes_df.to_csv(\"nodes_final5.csv\", index=False)"
   ]
  },
  {
   "cell_type": "code",
   "execution_count": null,
   "id": "1f53ace7-d6eb-4141-9514-cbaec38edc98",
   "metadata": {},
   "outputs": [],
   "source": []
  }
 ],
 "metadata": {
  "kernelspec": {
   "display_name": "Python 3 (ipykernel)",
   "language": "python",
   "name": "python3"
  },
  "language_info": {
   "codemirror_mode": {
    "name": "ipython",
    "version": 3
   },
   "file_extension": ".py",
   "mimetype": "text/x-python",
   "name": "python",
   "nbconvert_exporter": "python",
   "pygments_lexer": "ipython3",
   "version": "3.12.4"
  }
 },
 "nbformat": 4,
 "nbformat_minor": 5
}
