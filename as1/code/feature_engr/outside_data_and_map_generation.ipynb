{
 "cells": [
  {
   "cell_type": "code",
   "execution_count": 1,
   "id": "26be013e-dc93-4ffd-bb99-c4f8e142637a",
   "metadata": {},
   "outputs": [],
   "source": [
    "import requests, time, csv\n",
    "import folium"
   ]
  },
  {
   "cell_type": "code",
   "execution_count": 2,
   "id": "03ad98b6",
   "metadata": {},
   "outputs": [],
   "source": [
    "def get_osm_data(csv_name, query_block):\n",
    "    overpass_url = \"http://overpass-api.de/api/interpreter\"\n",
    "    overpass_query = f\"\"\"\n",
    "    [out:json][timeout:25];\n",
    "    area[\"ISO3166-1\"=\"BE\"][admin_level=2]->.belgium;\n",
    "    (\n",
    "    {query_block}\n",
    "    );\n",
    "    out center 150000;\n",
    "    \"\"\"\n",
    "    \n",
    "    while True:\n",
    "        try:\n",
    "            data = requests.post(overpass_url, data={\"data\": overpass_query}).json()\n",
    "            features = [(e[\"tags\"].get(\"name\", \"Unnamed\"), e.get(\"lon\", e.get(\"center\", {}).get(\"lon\")), \n",
    "                        e.get(\"lat\", e.get(\"center\", {}).get(\"lat\")))\n",
    "                        for e in data.get(\"elements\", [])]\n",
    "\n",
    "            with open(csv_name, \"w\", encoding=\"utf-8\", newline='') as f:\n",
    "                writer = csv.writer(f)\n",
    "                writer.writerow([\"name\", \"lon\", \"lat\"])\n",
    "                writer.writerows(features)\n",
    "\n",
    "            print(f\"Saved {len(features)} locations to {csv_name}\")\n",
    "            break\n",
    "        except requests.exceptions.RequestException as e:\n",
    "            print(f\"Error: {e}, retrying in 10s...\")\n",
    "            time.sleep(10)\n",
    "    "
   ]
  },
  {
   "cell_type": "code",
   "execution_count": 3,
   "id": "6bd49d9b",
   "metadata": {},
   "outputs": [
    {
     "name": "stdout",
     "output_type": "stream",
     "text": [
      "Saved 6531 locations to belgium_parks.csv\n",
      "Saved 60003 locations to belgium_bus_stops.csv\n",
      "Saved 7166 locations to belgium_schools.csv\n"
     ]
    }
   ],
   "source": [
    "get_osm_data(\"belgium_parks.csv\", \"\"\"node[\"leisure\"=\"park\"](area.belgium);\n",
    "  way[\"leisure\"=\"park\"](area.belgium);\n",
    "  relation[\"leisure\"=\"park\"](area.belgium);\"\"\")\n",
    "\n",
    "get_osm_data(\"belgium_bus_stops.csv\", \"\"\"node[\"highway\"=\"bus_stop\"](area.belgium);\"\"\")\n",
    "\n",
    "get_osm_data(\"belgium_schools.csv\", \"\"\"node[\"amenity\"=\"school\"](area.belgium);\n",
    "  way[\"amenity\"=\"school\"](area.belgium);\n",
    "  relation[\"amenity\"=\"school\"](area.belgium);\"\"\")\n"
   ]
  },
  {
   "cell_type": "code",
   "execution_count": 4,
   "id": "54d93246",
   "metadata": {},
   "outputs": [],
   "source": [
    "def csv_to_map(map_name, csv_file, location=[50.85, 4.35], zoom_start=8):\n",
    "    map = folium.Map(location=location, zoom_start=zoom_start)\n",
    "    with open(csv_file, encoding=\"utf-8\") as f:\n",
    "        reader = csv.reader(f)\n",
    "        next(reader)\n",
    "        for name, lon, lat in reader:\n",
    "            folium.Marker(\n",
    "                location=[float(lat), float(lon)],\n",
    "                popup=name,\n",
    "                icon=folium.Icon(color=\"green\")\n",
    "            ).add_to(map)\n",
    "    map.save(map_name)\n",
    "    print(f\"Map saved as {map_name}\")"
   ]
  },
  {
   "cell_type": "code",
   "execution_count": 5,
   "id": "6a35c71f",
   "metadata": {},
   "outputs": [
    {
     "name": "stdout",
     "output_type": "stream",
     "text": [
      "Map saved as belgium_parks_map.html\n",
      "Map saved as belgium_bus_stops_map.html\n",
      "Map saved as belgium_schools_map.html\n"
     ]
    }
   ],
   "source": [
    "csv_to_map(\"belgium_parks_map.html\", \"belgium_parks.csv\")\n",
    "csv_to_map(\"belgium_bus_stops_map.html\", \"belgium_bus_stops.csv\")\n",
    "csv_to_map(\"belgium_schools_map.html\", \"belgium_schools.csv\")"
   ]
  },
  {
   "cell_type": "code",
   "execution_count": 6,
   "id": "82922d9d",
   "metadata": {},
   "outputs": [
    {
     "name": "stdout",
     "output_type": "stream",
     "text": [
      "Map saved as belgium_trains_map.html\n"
     ]
    }
   ],
   "source": [
    "belgium_map_trains = folium.Map(location=[50.85, 4.35], zoom_start=8)\n",
    "\n",
    "with open(\"belgium_train_stations.csv\", encoding=\"utf-8\") as f:\n",
    "    reader = csv.reader(f)\n",
    "    next(reader) \n",
    "    for row in reader:\n",
    "        name = row[2]\n",
    "        lon = row[6]  \n",
    "        lat = row[5] \n",
    "        folium.Marker(\n",
    "            location=[float(lat), float(lon)],\n",
    "            popup=name,\n",
    "            icon=folium.Icon(color=\"green\")\n",
    "        ).add_to(belgium_map_trains)\n",
    "\n",
    "\n",
    "belgium_map_trains.save(\"belgium_trains_map.html\")\n",
    "print(f\"Map saved as belgium_trains_map.html\")"
   ]
  }
 ],
 "metadata": {
  "kernelspec": {
   "display_name": "base",
   "language": "python",
   "name": "python3"
  },
  "language_info": {
   "codemirror_mode": {
    "name": "ipython",
    "version": 3
   },
   "file_extension": ".py",
   "mimetype": "text/x-python",
   "name": "python",
   "nbconvert_exporter": "python",
   "pygments_lexer": "ipython3",
   "version": "3.12.7"
  }
 },
 "nbformat": 4,
 "nbformat_minor": 5
}
