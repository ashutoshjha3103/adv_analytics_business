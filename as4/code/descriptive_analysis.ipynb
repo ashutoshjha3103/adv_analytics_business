{
 "cells": [
  {
   "cell_type": "code",
   "execution_count": 2,
   "id": "eb322fcc-83ee-42ef-89b0-74f02b1a6833",
   "metadata": {
    "execution": {
     "iopub.execute_input": "2025-05-30T18:26:52.920471Z",
     "iopub.status.busy": "2025-05-30T18:26:52.917759Z",
     "iopub.status.idle": "2025-05-30T18:26:54.597463Z",
     "shell.execute_reply": "2025-05-30T18:26:54.597463Z",
     "shell.execute_reply.started": "2025-05-30T18:26:52.920471Z"
    }
   },
   "outputs": [],
   "source": [
    "import json\n",
    "import networkx as nx\n",
    "import pandas as pd"
   ]
  },
  {
   "cell_type": "code",
   "execution_count": null,
   "id": "78bcadbc-4037-4b72-8212-94f1694776f9",
   "metadata": {
    "execution": {
     "iopub.execute_input": "2025-05-27T16:27:21.004482Z",
     "iopub.status.busy": "2025-05-27T16:27:21.004482Z",
     "iopub.status.idle": "2025-05-27T16:27:24.056599Z",
     "shell.execute_reply": "2025-05-27T16:27:24.056599Z",
     "shell.execute_reply.started": "2025-05-27T16:27:21.004482Z"
    }
   },
   "outputs": [],
   "source": [
    "# Load JSONL data\n",
    "data = []\n",
    "with open('data/50kwithPaths.json', 'r', encoding='utf-8') as f:\n",
    "    for line in f:\n",
    "        record = json.loads(line)\n",
    "        nodes = record['path']['nodes']\n",
    "        rel = record['path']['relationships'][0]  # one relationship per path\n",
    "\n",
    "        user = next(node for node in nodes if 'User' in node['labels'])\n",
    "        app = next(node for node in nodes if 'App' in node['labels'])\n",
    "\n",
    "        data.append({\n",
    "            'user_id': user['properties'].get('ident'),\n",
    "            'app_id': app['properties'].get('ident'),\n",
    "            'app_name': app['properties'].get('name'),\n",
    "            'playtime': rel['properties'].get('playtime', 0)\n",
    "        })\n",
    "\n",
    "df = pd.DataFrame(data)"
   ]
  },
  {
   "cell_type": "code",
   "execution_count": 2,
   "id": "e727a0c5-697c-4dc3-9897-6fe5828842c5",
   "metadata": {
    "execution": {
     "iopub.execute_input": "2025-05-27T14:00:49.113732Z",
     "iopub.status.busy": "2025-05-27T14:00:49.113732Z",
     "iopub.status.idle": "2025-05-27T14:00:52.394020Z",
     "shell.execute_reply": "2025-05-27T14:00:52.390951Z",
     "shell.execute_reply.started": "2025-05-27T14:00:49.113732Z"
    }
   },
   "outputs": [
    {
     "data": {
      "text/html": [
       "<div>\n",
       "<style scoped>\n",
       "    .dataframe tbody tr th:only-of-type {\n",
       "        vertical-align: middle;\n",
       "    }\n",
       "\n",
       "    .dataframe tbody tr th {\n",
       "        vertical-align: top;\n",
       "    }\n",
       "\n",
       "    .dataframe thead th {\n",
       "        text-align: right;\n",
       "    }\n",
       "</style>\n",
       "<table border=\"1\" class=\"dataframe\">\n",
       "  <thead>\n",
       "    <tr style=\"text-align: right;\">\n",
       "      <th></th>\n",
       "      <th>app_id</th>\n",
       "      <th>app_name</th>\n",
       "      <th>owners</th>\n",
       "      <th>avg_playtime</th>\n",
       "      <th>median_playtime</th>\n",
       "      <th>zero_playtime</th>\n",
       "      <th>zero_playtime_ratio</th>\n",
       "    </tr>\n",
       "  </thead>\n",
       "  <tbody>\n",
       "    <tr>\n",
       "      <th>0</th>\n",
       "      <td>1000310</td>\n",
       "      <td>人气动漫大乱斗</td>\n",
       "      <td>1</td>\n",
       "      <td>0.0</td>\n",
       "      <td>0.0</td>\n",
       "      <td>1</td>\n",
       "      <td>1.0</td>\n",
       "    </tr>\n",
       "    <tr>\n",
       "      <th>1</th>\n",
       "      <td>1000380</td>\n",
       "      <td>Rogue Reaper</td>\n",
       "      <td>2</td>\n",
       "      <td>0.0</td>\n",
       "      <td>0.0</td>\n",
       "      <td>2</td>\n",
       "      <td>1.0</td>\n",
       "    </tr>\n",
       "    <tr>\n",
       "      <th>2</th>\n",
       "      <td>1000510</td>\n",
       "      <td>The Marvellous Machine</td>\n",
       "      <td>2</td>\n",
       "      <td>0.0</td>\n",
       "      <td>0.0</td>\n",
       "      <td>2</td>\n",
       "      <td>1.0</td>\n",
       "    </tr>\n",
       "    <tr>\n",
       "      <th>3</th>\n",
       "      <td>1000550</td>\n",
       "      <td>Love Hentai: Endgame</td>\n",
       "      <td>1</td>\n",
       "      <td>0.0</td>\n",
       "      <td>0.0</td>\n",
       "      <td>1</td>\n",
       "      <td>1.0</td>\n",
       "    </tr>\n",
       "    <tr>\n",
       "      <th>4</th>\n",
       "      <td>1000830</td>\n",
       "      <td>Gachi Finder 3000</td>\n",
       "      <td>2</td>\n",
       "      <td>0.0</td>\n",
       "      <td>0.0</td>\n",
       "      <td>2</td>\n",
       "      <td>1.0</td>\n",
       "    </tr>\n",
       "  </tbody>\n",
       "</table>\n",
       "</div>"
      ],
      "text/plain": [
       "    app_id                app_name  owners  avg_playtime  median_playtime  \\\n",
       "0  1000310                 人气动漫大乱斗       1           0.0              0.0   \n",
       "1  1000380            Rogue Reaper       2           0.0              0.0   \n",
       "2  1000510  The Marvellous Machine       2           0.0              0.0   \n",
       "3  1000550    Love Hentai: Endgame       1           0.0              0.0   \n",
       "4  1000830       Gachi Finder 3000       2           0.0              0.0   \n",
       "\n",
       "   zero_playtime  zero_playtime_ratio  \n",
       "0              1                  1.0  \n",
       "1              2                  1.0  \n",
       "2              2                  1.0  \n",
       "3              1                  1.0  \n",
       "4              2                  1.0  "
      ]
     },
     "execution_count": 2,
     "metadata": {},
     "output_type": "execute_result"
    }
   ],
   "source": [
    "agg_df = df.groupby(['app_id', 'app_name']).agg(\n",
    "    owners=('user_id', 'nunique'),\n",
    "    avg_playtime=('playtime', 'mean'),\n",
    "    median_playtime=('playtime', 'median'),\n",
    "    zero_playtime=('playtime', lambda x: (x == 0).sum())\n",
    ").reset_index()\n",
    "\n",
    "agg_df['zero_playtime_ratio'] = agg_df['zero_playtime'] / agg_df['owners']\n",
    "agg_df.head()"
   ]
  },
  {
   "cell_type": "code",
   "execution_count": 3,
   "id": "4c93f8d3-60ee-4be4-b9dc-e0f0054ae2e8",
   "metadata": {
    "execution": {
     "iopub.execute_input": "2025-05-27T14:00:52.394020Z",
     "iopub.status.busy": "2025-05-27T14:00:52.394020Z",
     "iopub.status.idle": "2025-05-27T14:00:52.450775Z",
     "shell.execute_reply": "2025-05-27T14:00:52.448716Z",
     "shell.execute_reply.started": "2025-05-27T14:00:52.394020Z"
    }
   },
   "outputs": [
    {
     "data": {
      "text/html": [
       "<div>\n",
       "<style scoped>\n",
       "    .dataframe tbody tr th:only-of-type {\n",
       "        vertical-align: middle;\n",
       "    }\n",
       "\n",
       "    .dataframe tbody tr th {\n",
       "        vertical-align: top;\n",
       "    }\n",
       "\n",
       "    .dataframe thead th {\n",
       "        text-align: right;\n",
       "    }\n",
       "</style>\n",
       "<table border=\"1\" class=\"dataframe\">\n",
       "  <thead>\n",
       "    <tr style=\"text-align: right;\">\n",
       "      <th></th>\n",
       "      <th>app_id</th>\n",
       "      <th>app_name</th>\n",
       "      <th>owners</th>\n",
       "      <th>avg_playtime</th>\n",
       "      <th>median_playtime</th>\n",
       "      <th>zero_playtime</th>\n",
       "      <th>zero_playtime_ratio</th>\n",
       "    </tr>\n",
       "  </thead>\n",
       "  <tbody>\n",
       "    <tr>\n",
       "      <th>323</th>\n",
       "      <td>1037200</td>\n",
       "      <td>Offworld Trading Company - Core Game Upgrade</td>\n",
       "      <td>128</td>\n",
       "      <td>0.0</td>\n",
       "      <td>0.0</td>\n",
       "      <td>128</td>\n",
       "      <td>1.0</td>\n",
       "    </tr>\n",
       "    <tr>\n",
       "      <th>374</th>\n",
       "      <td>1045980</td>\n",
       "      <td>Stellaris: Ancient Relics Story Pack</td>\n",
       "      <td>133</td>\n",
       "      <td>0.0</td>\n",
       "      <td>0.0</td>\n",
       "      <td>133</td>\n",
       "      <td>1.0</td>\n",
       "    </tr>\n",
       "    <tr>\n",
       "      <th>4429</th>\n",
       "      <td>1668560</td>\n",
       "      <td>Age of Empires IV - 4K HDR Video Pack</td>\n",
       "      <td>121</td>\n",
       "      <td>0.0</td>\n",
       "      <td>0.0</td>\n",
       "      <td>121</td>\n",
       "      <td>1.0</td>\n",
       "    </tr>\n",
       "    <tr>\n",
       "      <th>8308</th>\n",
       "      <td>226667</td>\n",
       "      <td>Crusader Kings II: Sons of Abraham</td>\n",
       "      <td>123</td>\n",
       "      <td>0.0</td>\n",
       "      <td>0.0</td>\n",
       "      <td>123</td>\n",
       "      <td>1.0</td>\n",
       "    </tr>\n",
       "    <tr>\n",
       "      <th>15288</th>\n",
       "      <td>456200</td>\n",
       "      <td>Cities: Skylines - Match Day</td>\n",
       "      <td>165</td>\n",
       "      <td>0.0</td>\n",
       "      <td>0.0</td>\n",
       "      <td>165</td>\n",
       "      <td>1.0</td>\n",
       "    </tr>\n",
       "    <tr>\n",
       "      <th>15623</th>\n",
       "      <td>563850</td>\n",
       "      <td>Cities: Skylines - Pearls From the East</td>\n",
       "      <td>128</td>\n",
       "      <td>0.0</td>\n",
       "      <td>0.0</td>\n",
       "      <td>128</td>\n",
       "      <td>1.0</td>\n",
       "    </tr>\n",
       "    <tr>\n",
       "      <th>16033</th>\n",
       "      <td>715192</td>\n",
       "      <td>Cities: Skylines - Carols, Candles and Candy</td>\n",
       "      <td>105</td>\n",
       "      <td>0.0</td>\n",
       "      <td>0.0</td>\n",
       "      <td>105</td>\n",
       "      <td>1.0</td>\n",
       "    </tr>\n",
       "    <tr>\n",
       "      <th>16291</th>\n",
       "      <td>799751</td>\n",
       "      <td>BATTLETECH - Shadow Hawk Pack</td>\n",
       "      <td>108</td>\n",
       "      <td>0.0</td>\n",
       "      <td>0.0</td>\n",
       "      <td>108</td>\n",
       "      <td>1.0</td>\n",
       "    </tr>\n",
       "    <tr>\n",
       "      <th>16888</th>\n",
       "      <td>911930</td>\n",
       "      <td>BATTLETECH Flashpoint</td>\n",
       "      <td>124</td>\n",
       "      <td>0.0</td>\n",
       "      <td>0.0</td>\n",
       "      <td>124</td>\n",
       "      <td>1.0</td>\n",
       "    </tr>\n",
       "  </tbody>\n",
       "</table>\n",
       "</div>"
      ],
      "text/plain": [
       "        app_id                                      app_name  owners  \\\n",
       "323    1037200  Offworld Trading Company - Core Game Upgrade     128   \n",
       "374    1045980          Stellaris: Ancient Relics Story Pack     133   \n",
       "4429   1668560         Age of Empires IV - 4K HDR Video Pack     121   \n",
       "8308    226667            Crusader Kings II: Sons of Abraham     123   \n",
       "15288   456200                  Cities: Skylines - Match Day     165   \n",
       "15623   563850       Cities: Skylines - Pearls From the East     128   \n",
       "16033   715192  Cities: Skylines - Carols, Candles and Candy     105   \n",
       "16291   799751                 BATTLETECH - Shadow Hawk Pack     108   \n",
       "16888   911930                         BATTLETECH Flashpoint     124   \n",
       "\n",
       "       avg_playtime  median_playtime  zero_playtime  zero_playtime_ratio  \n",
       "323             0.0              0.0            128                  1.0  \n",
       "374             0.0              0.0            133                  1.0  \n",
       "4429            0.0              0.0            121                  1.0  \n",
       "8308            0.0              0.0            123                  1.0  \n",
       "15288           0.0              0.0            165                  1.0  \n",
       "15623           0.0              0.0            128                  1.0  \n",
       "16033           0.0              0.0            105                  1.0  \n",
       "16291           0.0              0.0            108                  1.0  \n",
       "16888           0.0              0.0            124                  1.0  "
      ]
     },
     "execution_count": 3,
     "metadata": {},
     "output_type": "execute_result"
    }
   ],
   "source": [
    "# Define thresholds\n",
    "min_owners = 100\n",
    "max_avg_playtime = 10  # minutes\n",
    "min_zero_ratio = 0.8   # 80% or more have not played\n",
    "\n",
    "backlog_df = agg_df[\n",
    "    (agg_df['owners'] >= min_owners) &\n",
    "    ((agg_df['avg_playtime'] <= max_avg_playtime) | (agg_df['zero_playtime_ratio'] >= min_zero_ratio))\n",
    "]\n",
    "backlog_df"
   ]
  },
  {
   "cell_type": "code",
   "execution_count": 4,
   "id": "d282f26c-efd6-49b4-9b71-3ab5c4d7c99b",
   "metadata": {
    "execution": {
     "iopub.execute_input": "2025-05-30T18:27:04.732974Z",
     "iopub.status.busy": "2025-05-30T18:27:04.730787Z",
     "iopub.status.idle": "2025-05-30T18:27:06.186962Z",
     "shell.execute_reply": "2025-05-30T18:27:06.185451Z",
     "shell.execute_reply.started": "2025-05-30T18:27:04.732974Z"
    }
   },
   "outputs": [],
   "source": [
    "edges = pd.read_csv(\"data/edges_extended.csv\")\n",
    "nodes = pd.read_csv(\"data/nodes_extended.csv\", low_memory = False)"
   ]
  },
  {
   "cell_type": "code",
   "execution_count": 14,
   "id": "95e0145e-21d4-428f-9046-ce89339717ab",
   "metadata": {
    "execution": {
     "iopub.execute_input": "2025-05-30T18:28:33.703655Z",
     "iopub.status.busy": "2025-05-30T18:28:33.703655Z",
     "iopub.status.idle": "2025-05-30T18:28:33.728614Z",
     "shell.execute_reply": "2025-05-30T18:28:33.727532Z",
     "shell.execute_reply.started": "2025-05-30T18:28:33.703655Z"
    }
   },
   "outputs": [
    {
     "data": {
      "text/plain": [
       "0         User\n",
       "1          App\n",
       "2         User\n",
       "3          App\n",
       "4          App\n",
       "          ... \n",
       "126526     App\n",
       "126527     App\n",
       "126528     App\n",
       "126529     App\n",
       "126530     App\n",
       "Name: labels, Length: 126531, dtype: object"
      ]
     },
     "execution_count": 14,
     "metadata": {},
     "output_type": "execute_result"
    }
   ],
   "source": [
    "nodes.labels"
   ]
  },
  {
   "cell_type": "code",
   "execution_count": 8,
   "id": "abf0dda4-6235-43ad-a5c1-c49538f417a0",
   "metadata": {
    "execution": {
     "iopub.execute_input": "2025-05-30T18:27:47.095818Z",
     "iopub.status.busy": "2025-05-30T18:27:47.095818Z",
     "iopub.status.idle": "2025-05-30T18:27:47.115176Z",
     "shell.execute_reply": "2025-05-30T18:27:47.111664Z",
     "shell.execute_reply.started": "2025-05-30T18:27:47.095818Z"
    }
   },
   "outputs": [
    {
     "data": {
      "text/plain": [
       "Index(['id', 'start_node', 'end_node', 'label', 'playtime', 'source', 'target',\n",
       "       'relation_strength'],\n",
       "      dtype='object')"
      ]
     },
     "execution_count": 8,
     "metadata": {},
     "output_type": "execute_result"
    }
   ],
   "source": [
    "edges.columns"
   ]
  },
  {
   "cell_type": "code",
   "execution_count": 16,
   "id": "5aaa0cbd-8700-4643-ad88-99ced3bf2206",
   "metadata": {
    "execution": {
     "iopub.execute_input": "2025-05-30T18:30:21.229197Z",
     "iopub.status.busy": "2025-05-30T18:30:21.229197Z",
     "iopub.status.idle": "2025-05-30T18:30:21.460926Z",
     "shell.execute_reply": "2025-05-30T18:30:21.460531Z",
     "shell.execute_reply.started": "2025-05-30T18:30:21.229197Z"
    }
   },
   "outputs": [],
   "source": [
    "users = nodes[nodes['labels'] == 'User']\n",
    "apps = nodes[nodes['labels'] == 'App']"
   ]
  },
  {
   "cell_type": "code",
   "execution_count": null,
   "id": "dec1f820-941c-4a94-be62-ec541f162baa",
   "metadata": {
    "execution": {
     "iopub.execute_input": "2025-05-30T18:44:37.346414Z",
     "iopub.status.busy": "2025-05-30T18:44:37.345310Z",
     "iopub.status.idle": "2025-05-30T18:44:39.922873Z",
     "shell.execute_reply": "2025-05-30T18:44:39.921610Z",
     "shell.execute_reply.started": "2025-05-30T18:44:37.346414Z"
    }
   },
   "outputs": [],
   "source": [
    "import seaborn as sns\n",
    "import matplotlib.pyplot as plt"
   ]
  },
  {
   "cell_type": "code",
   "execution_count": 22,
   "id": "a78f97ef-0617-4da0-be0f-5bd127cb9205",
   "metadata": {
    "execution": {
     "iopub.execute_input": "2025-05-30T18:30:55.232242Z",
     "iopub.status.busy": "2025-05-30T18:30:55.232242Z",
     "iopub.status.idle": "2025-05-30T18:30:55.246275Z",
     "shell.execute_reply": "2025-05-30T18:30:55.246275Z",
     "shell.execute_reply.started": "2025-05-30T18:30:55.232242Z"
    }
   },
   "outputs": [],
   "source": [
    "assert len(users) + len(apps) == len(nodes)"
   ]
  },
  {
   "cell_type": "code",
   "execution_count": 36,
   "id": "269aab21-4aba-400a-9cdb-4d5e11b29bd5",
   "metadata": {
    "execution": {
     "iopub.execute_input": "2025-05-30T18:32:28.645063Z",
     "iopub.status.busy": "2025-05-30T18:32:28.642317Z",
     "iopub.status.idle": "2025-05-30T18:32:29.088418Z",
     "shell.execute_reply": "2025-05-30T18:32:29.088418Z",
     "shell.execute_reply.started": "2025-05-30T18:32:28.645063Z"
    }
   },
   "outputs": [
    {
     "data": {
      "text/plain": [
       "<Axes: >"
      ]
     },
     "execution_count": 36,
     "metadata": {},
     "output_type": "execute_result"
    },
    {
     "data": {
      "image/png": "[encoded data removed]",
      "text/plain": [
       "<Figure size 640x480 with 1 Axes>"
      ]
     },
     "metadata": {},
     "output_type": "display_data"
    }
   ],
   "source": [
    "edges.playtime.clip(upper = 400).hist(bins = 30)"
   ]
  },
  {
   "cell_type": "code",
   "execution_count": 44,
   "id": "48275b5a-791b-4182-880d-5ba968749681",
   "metadata": {
    "execution": {
     "iopub.execute_input": "2025-05-30T18:34:12.883233Z",
     "iopub.status.busy": "2025-05-30T18:34:12.883233Z",
     "iopub.status.idle": "2025-05-30T18:34:12.911229Z",
     "shell.execute_reply": "2025-05-30T18:34:12.906288Z",
     "shell.execute_reply.started": "2025-05-30T18:34:12.883233Z"
    }
   },
   "outputs": [],
   "source": [
    "zero_playtime = edges[edges['playtime'] == 0]\n",
    "zero_playtime_count = zero_playtime.groupby('start_node').size().rename('zero_playtime_count')"
   ]
  },
  {
   "cell_type": "code",
   "execution_count": 54,
   "id": "04a9fefc-db71-4894-b9f8-ea7d293b66cf",
   "metadata": {
    "execution": {
     "iopub.execute_input": "2025-05-30T18:37:28.423554Z",
     "iopub.status.busy": "2025-05-30T18:37:28.423554Z",
     "iopub.status.idle": "2025-05-30T18:37:28.441874Z",
     "shell.execute_reply": "2025-05-30T18:37:28.440094Z",
     "shell.execute_reply.started": "2025-05-30T18:37:28.423554Z"
    }
   },
   "outputs": [],
   "source": [
    "total_playtime_count = edges.groupby('start_node').size().rename('total_games_owned')\n"
   ]
  },
  {
   "cell_type": "code",
   "execution_count": 56,
   "id": "f0535528-fec1-4bce-b9a9-929b997f00e3",
   "metadata": {
    "execution": {
     "iopub.execute_input": "2025-05-30T18:37:46.706600Z",
     "iopub.status.busy": "2025-05-30T18:37:46.703830Z",
     "iopub.status.idle": "2025-05-30T18:37:46.736789Z",
     "shell.execute_reply": "2025-05-30T18:37:46.734769Z",
     "shell.execute_reply.started": "2025-05-30T18:37:46.706600Z"
    }
   },
   "outputs": [],
   "source": [
    "user_game_stats = pd.concat([zero_playtime_count, total_playtime_count], axis=1).fillna(0)\n",
    "user_game_stats['zero_playtime_ratio'] = user_game_stats['zero_playtime_count'] / user_game_stats['total_games_owned']\n"
   ]
  },
  {
   "cell_type": "code",
   "execution_count": 107,
   "id": "293ceab7-0e48-4278-bcc6-bb7ab19e0884",
   "metadata": {
    "execution": {
     "iopub.execute_input": "2025-05-30T18:51:58.426873Z",
     "iopub.status.busy": "2025-05-30T18:51:58.418144Z",
     "iopub.status.idle": "2025-05-30T18:51:59.883771Z",
     "shell.execute_reply": "2025-05-30T18:51:59.882640Z",
     "shell.execute_reply.started": "2025-05-30T18:51:58.426873Z"
    }
   },
   "outputs": [
    {
     "data": {
      "image/png": "[encoded data removed]",
      "text/plain": [
       "<Figure size 640x480 with 1 Axes>"
      ]
     },
     "metadata": {},
     "output_type": "display_data"
    }
   ],
   "source": [
    "sns.histplot(user_game_stats['total_games_owned'].clip(upper = 240), bins=15, kde=False)\n",
    "plt.xlabel(\"Number of Owned Games (clipped at 240)\")\n",
    "plt.ylabel(\"Number of Users\")\n",
    "plt.title(\"Distribution of Owned Games per User\")\n",
    "plt.savefig(\"owned_games_distribution.png\", dpi=300, bbox_inches='tight')\n",
    "plt.show()"
   ]
  },
  {
   "cell_type": "code",
   "execution_count": 101,
   "id": "08c61b8d-e5b2-4fd5-8364-836e5447283b",
   "metadata": {
    "execution": {
     "iopub.execute_input": "2025-05-30T18:51:13.187012Z",
     "iopub.status.busy": "2025-05-30T18:51:13.182790Z",
     "iopub.status.idle": "2025-05-30T18:51:14.657027Z",
     "shell.execute_reply": "2025-05-30T18:51:14.653768Z",
     "shell.execute_reply.started": "2025-05-30T18:51:13.187012Z"
    }
   },
   "outputs": [
    {
     "data": {
      "image/png": "[encoded data removed]",
      "text/plain": [
       "<Figure size 640x480 with 1 Axes>"
      ]
     },
     "metadata": {},
     "output_type": "display_data"
    }
   ],
   "source": [
    "sns.histplot(user_game_stats['zero_playtime_count'].clip(upper = 30), bins=15, kde=False)\n",
    "plt.xlabel(\"Number of Zero-Playtime Games (clipped at 30)\")\n",
    "plt.ylabel(\"Number of Users\")\n",
    "plt.title(\"Distribution of Zero-Playtime Games per User\")\n",
    "plt.savefig(\"zero_playtime_distribution.png\", dpi=300, bbox_inches='tight')\n",
    "plt.show()"
   ]
  },
  {
   "cell_type": "code",
   "execution_count": 85,
   "id": "50d40ca6-53a3-4601-9743-ea3488bd8126",
   "metadata": {
    "execution": {
     "iopub.execute_input": "2025-05-30T18:48:17.996974Z",
     "iopub.status.busy": "2025-05-30T18:48:17.995507Z",
     "iopub.status.idle": "2025-05-30T18:48:19.484703Z",
     "shell.execute_reply": "2025-05-30T18:48:19.482686Z",
     "shell.execute_reply.started": "2025-05-30T18:48:17.996974Z"
    }
   },
   "outputs": [
    {
     "data": {
      "image/png": "[encoded data removed]",
      "text/plain": [
       "<Figure size 640x480 with 1 Axes>"
      ]
     },
     "metadata": {},
     "output_type": "display_data"
    }
   ],
   "source": [
    "sns.histplot(user_game_stats['zero_playtime_ratio'], bins=15, kde=False)\n",
    "plt.xlabel(\"Ratio of Zero-Playtime Games\")\n",
    "plt.ylabel(\"Number of Users\")\n",
    "plt.title(\"Distribution of Ratio of Zero-Playtime Games per User\")\n",
    "plt.savefig(\"zero_playtime_ratio_distribution.png\", dpi=300, bbox_inches='tight')\n",
    "plt.show()"
   ]
  },
  {
   "cell_type": "code",
   "execution_count": 129,
   "id": "50c45bcd-b664-4d91-a08d-fd057e772990",
   "metadata": {
    "execution": {
     "iopub.execute_input": "2025-05-30T19:04:46.824874Z",
     "iopub.status.busy": "2025-05-30T19:04:46.824874Z",
     "iopub.status.idle": "2025-05-30T19:04:46.865097Z",
     "shell.execute_reply": "2025-05-30T19:04:46.865097Z",
     "shell.execute_reply.started": "2025-05-30T19:04:46.824874Z"
    }
   },
   "outputs": [],
   "source": [
    "# Define quantile thresholds\n",
    "lower_q = 0.0\n",
    "upper_q = 0.95\n",
    "\n",
    "# Clip zero-playtime counts\n",
    "clipped_zero = user_game_stats['zero_playtime_count'].clip(\n",
    "    lower=user_game_stats['zero_playtime_count'].quantile(lower_q),\n",
    "    upper=user_game_stats['zero_playtime_count'].quantile(upper_q)\n",
    ")\n",
    "\n",
    "# Clip total games owned\n",
    "clipped_total = user_game_stats['total_games_owned'].clip(\n",
    "    lower=user_game_stats['total_games_owned'].quantile(lower_q),\n",
    "    upper=user_game_stats['total_games_owned'].quantile(upper_q)\n",
    ")\n"
   ]
  },
  {
   "cell_type": "code",
   "execution_count": 131,
   "id": "030ca001-e7b6-4540-a20f-e1b044bbfeb1",
   "metadata": {
    "execution": {
     "iopub.execute_input": "2025-05-30T19:04:47.244283Z",
     "iopub.status.busy": "2025-05-30T19:04:47.244283Z",
     "iopub.status.idle": "2025-05-30T19:04:47.270749Z",
     "shell.execute_reply": "2025-05-30T19:04:47.267573Z",
     "shell.execute_reply.started": "2025-05-30T19:04:47.244283Z"
    }
   },
   "outputs": [
    {
     "name": "stdout",
     "output_type": "stream",
     "text": [
      "Clipped Zero-playtime games:\n",
      "  Mean              = 1.01\n",
      "  Variance          = 2.65\n",
      "  Variance / Mean   = 2.63\n",
      "\n",
      "Clipped Total games owned:\n",
      "  Mean              = 12.20\n",
      "  Variance          = 325.67\n",
      "  Variance / Mean   = 26.69\n"
     ]
    }
   ],
   "source": [
    "mean_zero = clipped_zero.mean()\n",
    "var_zero = clipped_zero.var()\n",
    "dispersion_zero = var_zero / mean_zero if mean_zero != 0 else float('inf')\n",
    "\n",
    "mean_total = clipped_total.mean()\n",
    "var_total = clipped_total.var()\n",
    "dispersion_total = var_total / mean_total if mean_total != 0 else float('inf')\n",
    "\n",
    "print(\"Clipped Zero-playtime games:\")\n",
    "print(f\"  Mean              = {mean_zero:.2f}\")\n",
    "print(f\"  Variance          = {var_zero:.2f}\")\n",
    "print(f\"  Variance / Mean   = {dispersion_zero:.2f}\")\n",
    "\n",
    "print(\"\\nClipped Total games owned:\")\n",
    "print(f\"  Mean              = {mean_total:.2f}\")\n",
    "print(f\"  Variance          = {var_total:.2f}\")\n",
    "print(f\"  Variance / Mean   = {dispersion_total:.2f}\")\n"
   ]
  },
  {
   "cell_type": "code",
   "execution_count": 133,
   "id": "0b2b42a0-0fd6-4ca8-802e-b3b00016f7b8",
   "metadata": {
    "execution": {
     "iopub.execute_input": "2025-05-30T19:25:28.962192Z",
     "iopub.status.busy": "2025-05-30T19:25:28.960181Z",
     "iopub.status.idle": "2025-05-30T19:25:29.584243Z",
     "shell.execute_reply": "2025-05-30T19:25:29.582295Z",
     "shell.execute_reply.started": "2025-05-30T19:25:28.962192Z"
    }
   },
   "outputs": [
    {
     "data": {
      "image/png": "[encoded data removed]",
      "text/plain": [
       "<Figure size 640x480 with 1 Axes>"
      ]
     },
     "metadata": {},
     "output_type": "display_data"
    }
   ],
   "source": [
    "# Subset of users who never played any of their owned games\n",
    "nonplaying_users = user_game_stats[user_game_stats['zero_playtime_ratio'] == 1]\n",
    "\n",
    "# Histogram of their total games owned\n",
    "sns.histplot(nonplaying_users['total_games_owned'], bins=30)\n",
    "plt.xlabel(\"Number of Games Owned\")\n",
    "plt.ylabel(\"Number of Users\")\n",
    "plt.title(\"Games Owned by Users Who Never Played Any\")\n",
    "plt.show()"
   ]
  },
  {
   "cell_type": "code",
   "execution_count": 135,
   "id": "a0c3c148-335a-4f56-9493-24d4fcee61b7",
   "metadata": {
    "execution": {
     "iopub.execute_input": "2025-05-30T19:25:38.932497Z",
     "iopub.status.busy": "2025-05-30T19:25:38.932497Z",
     "iopub.status.idle": "2025-05-30T19:25:38.952689Z",
     "shell.execute_reply": "2025-05-30T19:25:38.950847Z",
     "shell.execute_reply.started": "2025-05-30T19:25:38.932497Z"
    }
   },
   "outputs": [
    {
     "name": "stdout",
     "output_type": "stream",
     "text": [
      "Count = 355\n",
      "Mean  = 2.40\n",
      "Var   = 32.31\n",
      "Var/Mean = 13.48\n"
     ]
    }
   ],
   "source": [
    "owned = nonplaying_users['total_games_owned']\n",
    "print(f\"Count = {len(owned)}\")\n",
    "print(f\"Mean  = {owned.mean():.2f}\")\n",
    "print(f\"Var   = {owned.var():.2f}\")\n",
    "print(f\"Var/Mean = {(owned.var()/owned.mean()):.2f}\")\n"
   ]
  },
  {
   "cell_type": "code",
   "execution_count": 139,
   "id": "d06b9c68-4cad-4e24-93bb-d7b42b6867a5",
   "metadata": {
    "execution": {
     "iopub.execute_input": "2025-05-30T19:28:47.384445Z",
     "iopub.status.busy": "2025-05-30T19:28:47.384445Z",
     "iopub.status.idle": "2025-05-30T19:28:47.406647Z",
     "shell.execute_reply": "2025-05-30T19:28:47.402485Z",
     "shell.execute_reply.started": "2025-05-30T19:28:47.384445Z"
    }
   },
   "outputs": [
    {
     "data": {
      "text/plain": [
       "64"
      ]
     },
     "execution_count": 139,
     "metadata": {},
     "output_type": "execute_result"
    }
   ],
   "source": [
    "owned.max()"
   ]
  }
 ],
 "metadata": {
  "kernelspec": {
   "display_name": "Python 3 (ipykernel)",
   "language": "python",
   "name": "python3"
  },
  "language_info": {
   "codemirror_mode": {
    "name": "ipython",
    "version": 3
   },
   "file_extension": ".py",
   "mimetype": "text/x-python",
   "name": "python",
   "nbconvert_exporter": "python",
   "pygments_lexer": "ipython3",
   "version": "3.12.3"
  }
 },
 "nbformat": 4,
 "nbformat_minor": 5
}
